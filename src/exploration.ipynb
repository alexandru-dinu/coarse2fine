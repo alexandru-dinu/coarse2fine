{
 "cells": [
  {
   "cell_type": "code",
   "execution_count": null,
   "metadata": {},
   "outputs": [],
   "source": [
    "import table\n",
    "import table.IO as tio\n",
    "import torch\n",
    "import os\n",
    "from tqdm.auto import tqdm\n",
    "import re\n",
    "from collections import Counter\n",
    "\n",
    "from nltk.tokenize import word_tokenize\n",
    "from nltk.corpus import stopwords\n",
    "import pickle\n",
    "\n",
    "import mittens\n",
    " \n",
    "stopWords = set(stopwords.words('english'))\n",
    "\n",
    "import numpy as np\n",
    "import pandas as pd"
   ]
  },
  {
   "cell_type": "code",
   "execution_count": null,
   "metadata": {},
   "outputs": [],
   "source": [
    "PUNCTUATION = {\n",
    "    'sep'   : u'\\u200b' + \"/-'´′‘…—−–\",\n",
    "    'keep'  : \"&\",\n",
    "    'remove': '?!.,，\"#$%\\'()*+-/:;<=>@[\\\\]^_`{|}~“”’™•°'\n",
    "}\n",
    "\n",
    "def clean_text(x):\n",
    "    x = x.lower()\n",
    "\n",
    "    for p in PUNCTUATION['sep']:\n",
    "        x = x.replace(p, \" \")\n",
    "    for p in PUNCTUATION['keep']:\n",
    "        x = x.replace(p, \" %s \" % p)\n",
    "    for p in PUNCTUATION['remove']:\n",
    "        x = x.replace(p, \"\")\n",
    "\n",
    "    return x"
   ]
  },
  {
   "cell_type": "code",
   "execution_count": null,
   "metadata": {},
   "outputs": [],
   "source": [
    "base_dir = '../data_model/comp-sci-corpus/'\n",
    "\n",
    "all_words = []\n",
    "\n",
    "for f in tqdm(os.listdir(base_dir)):\n",
    "    file_contents = [clean_text(l.strip().lower()) for l in open(os.path.join(base_dir, f), \"rt\").readlines()]\n",
    "    \n",
    "    for line in file_contents:\n",
    "        for w in line.split():\n",
    "            if re.match(r'[\\w]+', w) and w not in stopWords:\n",
    "                all_words.append(w)\n",
    "            \n",
    "print(\"len(all_words) = %d\" % len(all_words))\n",
    "\n",
    "vocab = Counter() \n",
    "for w in tqdm(all_words):\n",
    "    vocab[w] += 1\n",
    "    \n",
    "print(\"len(vocab) = %d\" % len(vocab))"
   ]
  },
  {
   "cell_type": "markdown",
   "metadata": {},
   "source": [
    "### Build co-occurrence"
   ]
  },
  {
   "cell_type": "code",
   "execution_count": null,
   "metadata": {},
   "outputs": [],
   "source": [
    "thr = 20000\n",
    "window = 10\n",
    "\n",
    "top_words, top_freqs = zip(*vocab.most_common(thr))\n",
    "top_words = set(top_words)\n",
    "\n",
    "word2idx = {w: i for i, w in enumerate(top_words)}\n",
    "\n",
    "M = np.zeros((thr, thr), dtype=np.uint16)\n",
    "\n",
    "for i in tqdm(range(len(all_words))):\n",
    "    if all_words[i] not in top_words:\n",
    "        continue\n",
    "    \n",
    "    for j in range(max(i - window, 0), min(i + window, len(all_words))):\n",
    "        if i == j or all_words[j] not in top_words: continue\n",
    "        \n",
    "        M[word2idx[all_words[i]], word2idx[all_words[j]]] += 1 "
   ]
  },
  {
   "cell_type": "code",
   "execution_count": null,
   "metadata": {},
   "outputs": [],
   "source": [
    "out_vocab_file = '../data_model/comp-sci-corpus-thr%d-window%d.vocab' % (thr, window)\n",
    "out_mat_file = '../data_model/comp-sci-corpus-thr%d-window%d.mat' % (thr, window)\n",
    "\n",
    "pickle.dump(word2idx, open(out_vocab_file, \"wb\"))\n",
    "pickle.dump(M, open(out_mat_file, \"wb\"))"
   ]
  },
  {
   "cell_type": "markdown",
   "metadata": {},
   "source": [
    "## GloVe fine tune"
   ]
  },
  {
   "cell_type": "code",
   "execution_count": null,
   "metadata": {},
   "outputs": [],
   "source": [
    "_base_dir = \"/home/alex/workspace/git/kaggle.git/quora/input/\"\n",
    "EMB_GLOVE_FILE = \"%s/embeddings/glove.840B.300d/glove.840B.300d.txt\" % _base_dir\n",
    "\n",
    "def load_glove():\n",
    "    def get_coefs(word,*arr): \n",
    "        return word, np.asarray(arr, dtype='float32')\n",
    "    embeddings_index = dict(get_coefs(*o.split(\" \")) for o in open(EMB_GLOVE_FILE, encoding='latin'))    \n",
    "    return embeddings_index\n",
    "\n",
    "emb_glove = load_glove()"
   ]
  },
  {
   "cell_type": "code",
   "execution_count": null,
   "metadata": {},
   "outputs": [],
   "source": [
    "mittens_model = mittens.Mittens(n=300, max_iter=1000)\n",
    "\n",
    "new_emb_glove = mittens_model.fit(\n",
    "    M, # co-occurrence\n",
    "    vocab=list(word2idx),\n",
    "    initial_embedding_dict=emb_glove\n",
    ")"
   ]
  },
  {
   "cell_type": "code",
   "execution_count": null,
   "metadata": {},
   "outputs": [],
   "source": [
    "def closest_to(w, n=1):\n",
    "    xs = []\n",
    "    \n",
    "    for w_ in tqdm(emb_glove):\n",
    "        if w == w_: continue\n",
    "        xs += [(w_, np.dot(emb_glove[w], emb_glove[w_])/(np.linalg.norm(emb_glove[w]) * np.linalg.norm(emb_glove[w_])))]\n",
    "\n",
    "    return [x for x, _ in sorted(xs, key=lambda x:-x[1])[:n]]\n",
    "\n",
    "closest_to(\"function\", n=10)"
   ]
  }
 ],
 "metadata": {
  "kernelspec": {
   "display_name": "Python 3",
   "language": "python",
   "name": "python3"
  },
  "language_info": {
   "codemirror_mode": {
    "name": "ipython",
    "version": 3
   },
   "file_extension": ".py",
   "mimetype": "text/x-python",
   "name": "python",
   "nbconvert_exporter": "python",
   "pygments_lexer": "ipython3",
   "version": "3.5.6"
  }
 },
 "nbformat": 4,
 "nbformat_minor": 2
}
